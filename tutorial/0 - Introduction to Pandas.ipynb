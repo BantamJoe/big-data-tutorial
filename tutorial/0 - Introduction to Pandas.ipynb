{
 "metadata": {
  "name": ""
 },
 "nbformat": 3,
 "nbformat_minor": 0,
 "worksheets": [
  {
   "cells": [
    {
     "cell_type": "markdown",
     "metadata": {},
     "source": [
      "Hello tutorial attendees!\n",
      "\n",
      "Thanks for your interest in our 'Big Data with Python tutorial'!  My name is Marcel Caraciolo and I will be your instructor this day.\n",
      "\n",
      "This tutorial will be highly interactive, and we will go over a number of cosing exercises as we go along. For this you will need a working Python environment with  specific library versions and some data files.\n",
      "\n",
      "###Instructions:\n",
      "\n",
      "1- Here are the Env setup instructions. Shoot us an email if you run into problems!\n",
      "\n",
      "2- Download the MovieLens 1M Data Set and unzip it into a 'data' subdir.\n",
      "\n",
      "3- Download (or clone if you know git) the tutorial repository. The handouts are in the pdf-exports subdir.\n",
      "\n",
      "Since we won't be able to make it to the Tutorial Preparation Sessions, we'll be hanging around our tutorial room (Mission City M2) an hour before we get started in case anybody needs help.\n",
      "\n",
      "Best,\n",
      "\n",
      "Diego Maniloff\n",
      "\n",
      "diego@unata.com"
     ]
    },
    {
     "cell_type": "markdown",
     "metadata": {},
     "source": []
    }
   ],
   "metadata": {}
  }
 ]
}